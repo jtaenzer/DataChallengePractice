{
 "cells": [
  {
   "cell_type": "markdown",
   "metadata": {},
   "source": [
    "# Setup and exploring/cleaning the data\n",
    "\n",
    "The challenge provides two tables of data stored in csv files, the test_results data and the user (user_table) data, which are related by the user_id column. I'll start by reading both tables into pandas dataframes with correct column names."
   ]
  },
  {
   "cell_type": "code",
   "execution_count": 92,
   "metadata": {},
   "outputs": [
    {
     "data": {
      "text/html": [
       "<div>\n",
       "<style scoped>\n",
       "    .dataframe tbody tr th:only-of-type {\n",
       "        vertical-align: middle;\n",
       "    }\n",
       "\n",
       "    .dataframe tbody tr th {\n",
       "        vertical-align: top;\n",
       "    }\n",
       "\n",
       "    .dataframe thead th {\n",
       "        text-align: right;\n",
       "    }\n",
       "</style>\n",
       "<table border=\"1\" class=\"dataframe\">\n",
       "  <thead>\n",
       "    <tr style=\"text-align: right;\">\n",
       "      <th></th>\n",
       "      <th>user_id</th>\n",
       "      <th>timestamp</th>\n",
       "      <th>source</th>\n",
       "      <th>device</th>\n",
       "      <th>operative_system</th>\n",
       "      <th>test</th>\n",
       "      <th>price</th>\n",
       "      <th>converted</th>\n",
       "    </tr>\n",
       "  </thead>\n",
       "  <tbody>\n",
       "    <tr>\n",
       "      <th>0</th>\n",
       "      <td>604839</td>\n",
       "      <td>2015-05-08 03:38:34</td>\n",
       "      <td>ads_facebook</td>\n",
       "      <td>mobile</td>\n",
       "      <td>iOS</td>\n",
       "      <td>0</td>\n",
       "      <td>39.0</td>\n",
       "      <td>0</td>\n",
       "    </tr>\n",
       "    <tr>\n",
       "      <th>1</th>\n",
       "      <td>624057</td>\n",
       "      <td>2015-05-10 21:08:46</td>\n",
       "      <td>seo-google</td>\n",
       "      <td>mobile</td>\n",
       "      <td>android</td>\n",
       "      <td>0</td>\n",
       "      <td>39.0</td>\n",
       "      <td>0</td>\n",
       "    </tr>\n",
       "    <tr>\n",
       "      <th>2</th>\n",
       "      <td>317970</td>\n",
       "      <td>2015-04-04 15:01:23</td>\n",
       "      <td>ads-bing</td>\n",
       "      <td>mobile</td>\n",
       "      <td>android</td>\n",
       "      <td>0</td>\n",
       "      <td>39.0</td>\n",
       "      <td>0</td>\n",
       "    </tr>\n",
       "    <tr>\n",
       "      <th>3</th>\n",
       "      <td>685636</td>\n",
       "      <td>2015-05-07 07:26:01</td>\n",
       "      <td>direct_traffic</td>\n",
       "      <td>mobile</td>\n",
       "      <td>iOS</td>\n",
       "      <td>1</td>\n",
       "      <td>59.0</td>\n",
       "      <td>0</td>\n",
       "    </tr>\n",
       "    <tr>\n",
       "      <th>4</th>\n",
       "      <td>820854</td>\n",
       "      <td>2015-05-24 11:04:40</td>\n",
       "      <td>ads_facebook</td>\n",
       "      <td>web</td>\n",
       "      <td>mac</td>\n",
       "      <td>0</td>\n",
       "      <td>39.0</td>\n",
       "      <td>0</td>\n",
       "    </tr>\n",
       "    <tr>\n",
       "      <th>5</th>\n",
       "      <td>169971</td>\n",
       "      <td>2015-04-13 12:07:08</td>\n",
       "      <td>ads-google</td>\n",
       "      <td>mobile</td>\n",
       "      <td>iOS</td>\n",
       "      <td>0</td>\n",
       "      <td>39.0</td>\n",
       "      <td>0</td>\n",
       "    </tr>\n",
       "    <tr>\n",
       "      <th>6</th>\n",
       "      <td>600150</td>\n",
       "      <td>2015-03-04 14:45:44</td>\n",
       "      <td>seo_facebook</td>\n",
       "      <td>web</td>\n",
       "      <td>windows</td>\n",
       "      <td>0</td>\n",
       "      <td>39.0</td>\n",
       "      <td>0</td>\n",
       "    </tr>\n",
       "    <tr>\n",
       "      <th>7</th>\n",
       "      <td>798371</td>\n",
       "      <td>2015-03-15 08:19:29</td>\n",
       "      <td>ads-bing</td>\n",
       "      <td>mobile</td>\n",
       "      <td>android</td>\n",
       "      <td>1</td>\n",
       "      <td>59.0</td>\n",
       "      <td>1</td>\n",
       "    </tr>\n",
       "    <tr>\n",
       "      <th>8</th>\n",
       "      <td>447194</td>\n",
       "      <td>2015-03-28 12:28:10</td>\n",
       "      <td>ads_facebook</td>\n",
       "      <td>web</td>\n",
       "      <td>windows</td>\n",
       "      <td>1</td>\n",
       "      <td>59.0</td>\n",
       "      <td>0</td>\n",
       "    </tr>\n",
       "    <tr>\n",
       "      <th>9</th>\n",
       "      <td>431639</td>\n",
       "      <td>2015-04-24 12:42:18</td>\n",
       "      <td>ads_facebook</td>\n",
       "      <td>web</td>\n",
       "      <td>windows</td>\n",
       "      <td>1</td>\n",
       "      <td>59.0</td>\n",
       "      <td>0</td>\n",
       "    </tr>\n",
       "  </tbody>\n",
       "</table>\n",
       "</div>"
      ],
      "text/plain": [
       "   user_id            timestamp          source  device operative_system  \\\n",
       "0   604839  2015-05-08 03:38:34    ads_facebook  mobile              iOS   \n",
       "1   624057  2015-05-10 21:08:46      seo-google  mobile          android   \n",
       "2   317970  2015-04-04 15:01:23        ads-bing  mobile          android   \n",
       "3   685636  2015-05-07 07:26:01  direct_traffic  mobile              iOS   \n",
       "4   820854  2015-05-24 11:04:40    ads_facebook     web              mac   \n",
       "5   169971  2015-04-13 12:07:08      ads-google  mobile              iOS   \n",
       "6   600150  2015-03-04 14:45:44    seo_facebook     web          windows   \n",
       "7   798371  2015-03-15 08:19:29        ads-bing  mobile          android   \n",
       "8   447194  2015-03-28 12:28:10    ads_facebook     web          windows   \n",
       "9   431639  2015-04-24 12:42:18    ads_facebook     web          windows   \n",
       "\n",
       "   test  price  converted  \n",
       "0     0   39.0          0  \n",
       "1     0   39.0          0  \n",
       "2     0   39.0          0  \n",
       "3     1   59.0          0  \n",
       "4     0   39.0          0  \n",
       "5     0   39.0          0  \n",
       "6     0   39.0          0  \n",
       "7     1   59.0          1  \n",
       "8     1   59.0          0  \n",
       "9     1   59.0          0  "
      ]
     },
     "execution_count": 92,
     "metadata": {},
     "output_type": "execute_result"
    }
   ],
   "source": [
    "import pandas as pd\n",
    "import numpy as np\n",
    "import matplotlib.pyplot as plt\n",
    "\n",
    "test_results = pd.read_csv(\"../test_results.csv\", index_col=0)\n",
    "test_results.head(10)"
   ]
  },
  {
   "cell_type": "code",
   "execution_count": 2,
   "metadata": {},
   "outputs": [
    {
     "data": {
      "text/html": [
       "<div>\n",
       "<style scoped>\n",
       "    .dataframe tbody tr th:only-of-type {\n",
       "        vertical-align: middle;\n",
       "    }\n",
       "\n",
       "    .dataframe tbody tr th {\n",
       "        vertical-align: top;\n",
       "    }\n",
       "\n",
       "    .dataframe thead th {\n",
       "        text-align: right;\n",
       "    }\n",
       "</style>\n",
       "<table border=\"1\" class=\"dataframe\">\n",
       "  <thead>\n",
       "    <tr style=\"text-align: right;\">\n",
       "      <th></th>\n",
       "      <th>user_id</th>\n",
       "      <th>city</th>\n",
       "      <th>country</th>\n",
       "      <th>lat</th>\n",
       "      <th>long</th>\n",
       "    </tr>\n",
       "  </thead>\n",
       "  <tbody>\n",
       "    <tr>\n",
       "      <th>0</th>\n",
       "      <td>510335</td>\n",
       "      <td>Peabody</td>\n",
       "      <td>USA</td>\n",
       "      <td>42.53</td>\n",
       "      <td>-70.97</td>\n",
       "    </tr>\n",
       "    <tr>\n",
       "      <th>1</th>\n",
       "      <td>89568</td>\n",
       "      <td>Reno</td>\n",
       "      <td>USA</td>\n",
       "      <td>39.54</td>\n",
       "      <td>-119.82</td>\n",
       "    </tr>\n",
       "    <tr>\n",
       "      <th>2</th>\n",
       "      <td>434134</td>\n",
       "      <td>Rialto</td>\n",
       "      <td>USA</td>\n",
       "      <td>34.11</td>\n",
       "      <td>-117.39</td>\n",
       "    </tr>\n",
       "    <tr>\n",
       "      <th>3</th>\n",
       "      <td>289769</td>\n",
       "      <td>Carson City</td>\n",
       "      <td>USA</td>\n",
       "      <td>39.15</td>\n",
       "      <td>-119.74</td>\n",
       "    </tr>\n",
       "    <tr>\n",
       "      <th>4</th>\n",
       "      <td>939586</td>\n",
       "      <td>Chicago</td>\n",
       "      <td>USA</td>\n",
       "      <td>41.84</td>\n",
       "      <td>-87.68</td>\n",
       "    </tr>\n",
       "    <tr>\n",
       "      <th>5</th>\n",
       "      <td>229234</td>\n",
       "      <td>New York</td>\n",
       "      <td>USA</td>\n",
       "      <td>40.67</td>\n",
       "      <td>-73.94</td>\n",
       "    </tr>\n",
       "    <tr>\n",
       "      <th>6</th>\n",
       "      <td>339138</td>\n",
       "      <td>Durham</td>\n",
       "      <td>USA</td>\n",
       "      <td>35.98</td>\n",
       "      <td>-78.91</td>\n",
       "    </tr>\n",
       "    <tr>\n",
       "      <th>7</th>\n",
       "      <td>270353</td>\n",
       "      <td>New York</td>\n",
       "      <td>USA</td>\n",
       "      <td>40.67</td>\n",
       "      <td>-73.94</td>\n",
       "    </tr>\n",
       "    <tr>\n",
       "      <th>8</th>\n",
       "      <td>166748</td>\n",
       "      <td>Burke</td>\n",
       "      <td>USA</td>\n",
       "      <td>38.78</td>\n",
       "      <td>-77.27</td>\n",
       "    </tr>\n",
       "    <tr>\n",
       "      <th>9</th>\n",
       "      <td>167700</td>\n",
       "      <td>New York</td>\n",
       "      <td>USA</td>\n",
       "      <td>40.67</td>\n",
       "      <td>-73.94</td>\n",
       "    </tr>\n",
       "  </tbody>\n",
       "</table>\n",
       "</div>"
      ],
      "text/plain": [
       "   user_id         city country    lat    long\n",
       "0   510335      Peabody     USA  42.53  -70.97\n",
       "1    89568         Reno     USA  39.54 -119.82\n",
       "2   434134       Rialto     USA  34.11 -117.39\n",
       "3   289769  Carson City     USA  39.15 -119.74\n",
       "4   939586      Chicago     USA  41.84  -87.68\n",
       "5   229234     New York     USA  40.67  -73.94\n",
       "6   339138       Durham     USA  35.98  -78.91\n",
       "7   270353     New York     USA  40.67  -73.94\n",
       "8   166748        Burke     USA  38.78  -77.27\n",
       "9   167700     New York     USA  40.67  -73.94"
      ]
     },
     "execution_count": 2,
     "metadata": {},
     "output_type": "execute_result"
    }
   ],
   "source": [
    "user_table = pd.read_csv(\"../user_table.csv\")\n",
    "user_table.head(10)"
   ]
  },
  {
   "cell_type": "markdown",
   "metadata": {},
   "source": [
    "Now that the data has been read in and appears to have been formatted correctly, let's describe() both dataframes to check if the numerical values are all present (describe will ignore the text columns) and to see if we can glean anything from the simple stats provided by describe."
   ]
  },
  {
   "cell_type": "code",
   "execution_count": 3,
   "metadata": {},
   "outputs": [
    {
     "data": {
      "text/html": [
       "<div>\n",
       "<style scoped>\n",
       "    .dataframe tbody tr th:only-of-type {\n",
       "        vertical-align: middle;\n",
       "    }\n",
       "\n",
       "    .dataframe tbody tr th {\n",
       "        vertical-align: top;\n",
       "    }\n",
       "\n",
       "    .dataframe thead th {\n",
       "        text-align: right;\n",
       "    }\n",
       "</style>\n",
       "<table border=\"1\" class=\"dataframe\">\n",
       "  <thead>\n",
       "    <tr style=\"text-align: right;\">\n",
       "      <th></th>\n",
       "      <th>user_id</th>\n",
       "      <th>test</th>\n",
       "      <th>price</th>\n",
       "      <th>converted</th>\n",
       "    </tr>\n",
       "  </thead>\n",
       "  <tbody>\n",
       "    <tr>\n",
       "      <th>count</th>\n",
       "      <td>316800.000000</td>\n",
       "      <td>316800.000000</td>\n",
       "      <td>3.168000e+05</td>\n",
       "      <td>316800.000000</td>\n",
       "    </tr>\n",
       "    <tr>\n",
       "      <th>mean</th>\n",
       "      <td>499281.341840</td>\n",
       "      <td>0.360079</td>\n",
       "      <td>6.457590e+06</td>\n",
       "      <td>0.018333</td>\n",
       "    </tr>\n",
       "    <tr>\n",
       "      <th>std</th>\n",
       "      <td>288591.154044</td>\n",
       "      <td>0.480024</td>\n",
       "      <td>6.797307e+07</td>\n",
       "      <td>0.134154</td>\n",
       "    </tr>\n",
       "    <tr>\n",
       "      <th>min</th>\n",
       "      <td>3.000000</td>\n",
       "      <td>0.000000</td>\n",
       "      <td>3.900000e+01</td>\n",
       "      <td>0.000000</td>\n",
       "    </tr>\n",
       "    <tr>\n",
       "      <th>25%</th>\n",
       "      <td>249525.750000</td>\n",
       "      <td>0.000000</td>\n",
       "      <td>3.900000e+01</td>\n",
       "      <td>0.000000</td>\n",
       "    </tr>\n",
       "    <tr>\n",
       "      <th>50%</th>\n",
       "      <td>499021.500000</td>\n",
       "      <td>0.000000</td>\n",
       "      <td>3.900000e+01</td>\n",
       "      <td>0.000000</td>\n",
       "    </tr>\n",
       "    <tr>\n",
       "      <th>75%</th>\n",
       "      <td>749025.500000</td>\n",
       "      <td>1.000000</td>\n",
       "      <td>5.900000e+01</td>\n",
       "      <td>0.000000</td>\n",
       "    </tr>\n",
       "    <tr>\n",
       "      <th>max</th>\n",
       "      <td>1000000.000000</td>\n",
       "      <td>1.000000</td>\n",
       "      <td>9.998843e+08</td>\n",
       "      <td>1.000000</td>\n",
       "    </tr>\n",
       "  </tbody>\n",
       "</table>\n",
       "</div>"
      ],
      "text/plain": [
       "              user_id           test         price      converted\n",
       "count   316800.000000  316800.000000  3.168000e+05  316800.000000\n",
       "mean    499281.341840       0.360079  6.457590e+06       0.018333\n",
       "std     288591.154044       0.480024  6.797307e+07       0.134154\n",
       "min          3.000000       0.000000  3.900000e+01       0.000000\n",
       "25%     249525.750000       0.000000  3.900000e+01       0.000000\n",
       "50%     499021.500000       0.000000  3.900000e+01       0.000000\n",
       "75%     749025.500000       1.000000  5.900000e+01       0.000000\n",
       "max    1000000.000000       1.000000  9.998843e+08       1.000000"
      ]
     },
     "execution_count": 3,
     "metadata": {},
     "output_type": "execute_result"
    }
   ],
   "source": [
    "test_results.describe()"
   ]
  },
  {
   "cell_type": "code",
   "execution_count": 4,
   "metadata": {},
   "outputs": [
    {
     "data": {
      "text/html": [
       "<div>\n",
       "<style scoped>\n",
       "    .dataframe tbody tr th:only-of-type {\n",
       "        vertical-align: middle;\n",
       "    }\n",
       "\n",
       "    .dataframe tbody tr th {\n",
       "        vertical-align: top;\n",
       "    }\n",
       "\n",
       "    .dataframe thead th {\n",
       "        text-align: right;\n",
       "    }\n",
       "</style>\n",
       "<table border=\"1\" class=\"dataframe\">\n",
       "  <thead>\n",
       "    <tr style=\"text-align: right;\">\n",
       "      <th></th>\n",
       "      <th>user_id</th>\n",
       "      <th>lat</th>\n",
       "      <th>long</th>\n",
       "    </tr>\n",
       "  </thead>\n",
       "  <tbody>\n",
       "    <tr>\n",
       "      <th>count</th>\n",
       "      <td>275616.000000</td>\n",
       "      <td>275616.000000</td>\n",
       "      <td>275616.000000</td>\n",
       "    </tr>\n",
       "    <tr>\n",
       "      <th>mean</th>\n",
       "      <td>499245.801521</td>\n",
       "      <td>37.111680</td>\n",
       "      <td>-93.981772</td>\n",
       "    </tr>\n",
       "    <tr>\n",
       "      <th>std</th>\n",
       "      <td>288533.458944</td>\n",
       "      <td>5.209627</td>\n",
       "      <td>18.086486</td>\n",
       "    </tr>\n",
       "    <tr>\n",
       "      <th>min</th>\n",
       "      <td>3.000000</td>\n",
       "      <td>19.700000</td>\n",
       "      <td>-157.800000</td>\n",
       "    </tr>\n",
       "    <tr>\n",
       "      <th>25%</th>\n",
       "      <td>249544.500000</td>\n",
       "      <td>33.660000</td>\n",
       "      <td>-112.200000</td>\n",
       "    </tr>\n",
       "    <tr>\n",
       "      <th>50%</th>\n",
       "      <td>498861.000000</td>\n",
       "      <td>37.740000</td>\n",
       "      <td>-88.930000</td>\n",
       "    </tr>\n",
       "    <tr>\n",
       "      <th>75%</th>\n",
       "      <td>748856.500000</td>\n",
       "      <td>40.700000</td>\n",
       "      <td>-78.910000</td>\n",
       "    </tr>\n",
       "    <tr>\n",
       "      <th>max</th>\n",
       "      <td>999999.000000</td>\n",
       "      <td>61.180000</td>\n",
       "      <td>30.310000</td>\n",
       "    </tr>\n",
       "  </tbody>\n",
       "</table>\n",
       "</div>"
      ],
      "text/plain": [
       "             user_id            lat           long\n",
       "count  275616.000000  275616.000000  275616.000000\n",
       "mean   499245.801521      37.111680     -93.981772\n",
       "std    288533.458944       5.209627      18.086486\n",
       "min         3.000000      19.700000    -157.800000\n",
       "25%    249544.500000      33.660000    -112.200000\n",
       "50%    498861.000000      37.740000     -88.930000\n",
       "75%    748856.500000      40.700000     -78.910000\n",
       "max    999999.000000      61.180000      30.310000"
      ]
     },
     "execution_count": 4,
     "metadata": {},
     "output_type": "execute_result"
    }
   ],
   "source": [
    "user_table.describe()"
   ]
  },
  {
   "cell_type": "markdown",
   "metadata": {},
   "source": [
    "### Information gleaned from describe():\n",
    "\n",
    "1. The mean of the price column is in the millions, even though that column should ony contain 39 or 59. It seems likely there is some corrupt/incorrect data in that column.\n",
    "2. There are fewer user_id values in the user_table than the test_results. \n",
    "\n",
    "Both of these issues bear further investigation, which I will do below."
   ]
  },
  {
   "cell_type": "markdown",
   "metadata": {},
   "source": [
    "### Investigating the price column"
   ]
  },
  {
   "cell_type": "code",
   "execution_count": 5,
   "metadata": {},
   "outputs": [
    {
     "data": {
      "text/plain": [
       "39.0           200747\n",
       "59.0           112979\n",
       "536537851.0         1\n",
       "722005503.0         1\n",
       "362003840.0         1\n",
       "                ...  \n",
       "874195411.0         1\n",
       "873981330.0         1\n",
       "436979943.0         1\n",
       "873865897.0         1\n",
       "537168484.0         1\n",
       "Name: price, Length: 3076, dtype: int64"
      ]
     },
     "execution_count": 5,
     "metadata": {},
     "output_type": "execute_result"
    }
   ],
   "source": [
    "test_results[\"price\"].value_counts()"
   ]
  },
  {
   "cell_type": "markdown",
   "metadata": {},
   "source": [
    "The good news is that 39 and 59 are the most frequently occurring values! Every value after that occurs once and is O(10^6). Really looks like some kind of corruption. Based on the output of value_counts(), there are 3074 rows affected by this issue, representing around 1% of the dataset. Since this is such a small fraction of a relatively large dataset, I think the safest approach is to drop those rows for now, but an investigation into how they were corrupted may be worthwhile."
   ]
  },
  {
   "cell_type": "code",
   "execution_count": 6,
   "metadata": {},
   "outputs": [
    {
     "data": {
      "text/html": [
       "<div>\n",
       "<style scoped>\n",
       "    .dataframe tbody tr th:only-of-type {\n",
       "        vertical-align: middle;\n",
       "    }\n",
       "\n",
       "    .dataframe tbody tr th {\n",
       "        vertical-align: top;\n",
       "    }\n",
       "\n",
       "    .dataframe thead th {\n",
       "        text-align: right;\n",
       "    }\n",
       "</style>\n",
       "<table border=\"1\" class=\"dataframe\">\n",
       "  <thead>\n",
       "    <tr style=\"text-align: right;\">\n",
       "      <th></th>\n",
       "      <th>user_id</th>\n",
       "      <th>test</th>\n",
       "      <th>price</th>\n",
       "      <th>converted</th>\n",
       "    </tr>\n",
       "  </thead>\n",
       "  <tbody>\n",
       "    <tr>\n",
       "      <th>count</th>\n",
       "      <td>313726.000000</td>\n",
       "      <td>313726.000000</td>\n",
       "      <td>313726.000000</td>\n",
       "      <td>313726.000000</td>\n",
       "    </tr>\n",
       "    <tr>\n",
       "      <th>mean</th>\n",
       "      <td>499310.967401</td>\n",
       "      <td>0.359945</td>\n",
       "      <td>46.202400</td>\n",
       "      <td>0.018325</td>\n",
       "    </tr>\n",
       "    <tr>\n",
       "      <th>std</th>\n",
       "      <td>288608.449903</td>\n",
       "      <td>0.479985</td>\n",
       "      <td>9.600715</td>\n",
       "      <td>0.134124</td>\n",
       "    </tr>\n",
       "    <tr>\n",
       "      <th>min</th>\n",
       "      <td>3.000000</td>\n",
       "      <td>0.000000</td>\n",
       "      <td>39.000000</td>\n",
       "      <td>0.000000</td>\n",
       "    </tr>\n",
       "    <tr>\n",
       "      <th>25%</th>\n",
       "      <td>249495.250000</td>\n",
       "      <td>0.000000</td>\n",
       "      <td>39.000000</td>\n",
       "      <td>0.000000</td>\n",
       "    </tr>\n",
       "    <tr>\n",
       "      <th>50%</th>\n",
       "      <td>499200.000000</td>\n",
       "      <td>0.000000</td>\n",
       "      <td>39.000000</td>\n",
       "      <td>0.000000</td>\n",
       "    </tr>\n",
       "    <tr>\n",
       "      <th>75%</th>\n",
       "      <td>749063.000000</td>\n",
       "      <td>1.000000</td>\n",
       "      <td>59.000000</td>\n",
       "      <td>0.000000</td>\n",
       "    </tr>\n",
       "    <tr>\n",
       "      <th>max</th>\n",
       "      <td>1000000.000000</td>\n",
       "      <td>1.000000</td>\n",
       "      <td>59.000000</td>\n",
       "      <td>1.000000</td>\n",
       "    </tr>\n",
       "  </tbody>\n",
       "</table>\n",
       "</div>"
      ],
      "text/plain": [
       "              user_id           test          price      converted\n",
       "count   313726.000000  313726.000000  313726.000000  313726.000000\n",
       "mean    499310.967401       0.359945      46.202400       0.018325\n",
       "std     288608.449903       0.479985       9.600715       0.134124\n",
       "min          3.000000       0.000000      39.000000       0.000000\n",
       "25%     249495.250000       0.000000      39.000000       0.000000\n",
       "50%     499200.000000       0.000000      39.000000       0.000000\n",
       "75%     749063.000000       1.000000      59.000000       0.000000\n",
       "max    1000000.000000       1.000000      59.000000       1.000000"
      ]
     },
     "execution_count": 6,
     "metadata": {},
     "output_type": "execute_result"
    }
   ],
   "source": [
    "test_results_clean = test_results[test_results[\"price\"].isin([39.0, 59.0])]\n",
    "test_results_clean.describe()"
   ]
  },
  {
   "cell_type": "markdown",
   "metadata": {},
   "source": [
    "Finally, while I'm working with the price column, I'll check that the \"test\" and \"price\" columns are consistent."
   ]
  },
  {
   "cell_type": "code",
   "execution_count": 7,
   "metadata": {},
   "outputs": [
    {
     "data": {
      "text/plain": [
       "0    200593\n",
       "1       154\n",
       "Name: test, dtype: int64"
      ]
     },
     "execution_count": 7,
     "metadata": {},
     "output_type": "execute_result"
    }
   ],
   "source": [
    "test_results_clean[\"test\"][test_results[\"price\"] == 39].value_counts()"
   ]
  },
  {
   "cell_type": "code",
   "execution_count": 8,
   "metadata": {},
   "outputs": [
    {
     "data": {
      "text/plain": [
       "1    112770\n",
       "0       209\n",
       "Name: test, dtype: int64"
      ]
     },
     "execution_count": 8,
     "metadata": {},
     "output_type": "execute_result"
    }
   ],
   "source": [
    "test_results_clean[\"test\"][test_results[\"price\"] == 59].value_counts()"
   ]
  },
  {
   "cell_type": "markdown",
   "metadata": {},
   "source": [
    "It looks like there is some more inconsistency here (how was this data collected?), fortunately it is once again a small fraction of the overall dataset (209 + 154 = 363, ~0.1% of the data), so we should be safe to drop it."
   ]
  },
  {
   "cell_type": "code",
   "execution_count": 11,
   "metadata": {},
   "outputs": [],
   "source": [
    "# There is almost certainly a more efficient way of doing this, but since it only has to be run once I leave it for now.\n",
    "mask = [True if (test_results_clean[\"price\"].iloc[i] == 39 and test_results_clean[\"test\"].iloc[i] == 0) \n",
    "        or (test_results_clean[\"price\"].iloc[i] == 59 and test_results_clean[\"test\"].iloc[i] == 1) \n",
    "        else False for i in range(len(test_results_clean))]\n",
    "test_results_clean = test_results_clean[mask]"
   ]
  },
  {
   "cell_type": "markdown",
   "metadata": {},
   "source": [
    "### Investigating the mismatched length of the test_results and user_table data\n",
    "\n",
    "I'll start by checkign for duplicates in the user_id column"
   ]
  },
  {
   "cell_type": "code",
   "execution_count": 12,
   "metadata": {},
   "outputs": [
    {
     "data": {
      "text/plain": [
       "Series([], Name: user_id, dtype: int64)"
      ]
     },
     "execution_count": 12,
     "metadata": {},
     "output_type": "execute_result"
    }
   ],
   "source": [
    "test_results[\"user_id\"][test_results[\"user_id\"].duplicated()]"
   ]
  },
  {
   "cell_type": "markdown",
   "metadata": {},
   "source": [
    "There are no duplicates, so nexts lets check if every user_id in test_results is present in the user_table. We can make a decision later about whether to drop data from test_results table if we don't have the user information. This will depend on how we end up using the information in the user_table."
   ]
  },
  {
   "cell_type": "code",
   "execution_count": 13,
   "metadata": {},
   "outputs": [
    {
     "data": {
      "text/html": [
       "<div>\n",
       "<style scoped>\n",
       "    .dataframe tbody tr th:only-of-type {\n",
       "        vertical-align: middle;\n",
       "    }\n",
       "\n",
       "    .dataframe tbody tr th {\n",
       "        vertical-align: top;\n",
       "    }\n",
       "\n",
       "    .dataframe thead th {\n",
       "        text-align: right;\n",
       "    }\n",
       "</style>\n",
       "<table border=\"1\" class=\"dataframe\">\n",
       "  <thead>\n",
       "    <tr style=\"text-align: right;\">\n",
       "      <th></th>\n",
       "      <th>user_id</th>\n",
       "      <th>test</th>\n",
       "      <th>price</th>\n",
       "      <th>converted</th>\n",
       "    </tr>\n",
       "  </thead>\n",
       "  <tbody>\n",
       "    <tr>\n",
       "      <th>count</th>\n",
       "      <td>275616.000000</td>\n",
       "      <td>275616.000000</td>\n",
       "      <td>2.756160e+05</td>\n",
       "      <td>275616.000000</td>\n",
       "    </tr>\n",
       "    <tr>\n",
       "      <th>mean</th>\n",
       "      <td>499245.801521</td>\n",
       "      <td>0.359878</td>\n",
       "      <td>6.470932e+06</td>\n",
       "      <td>0.018210</td>\n",
       "    </tr>\n",
       "    <tr>\n",
       "      <th>std</th>\n",
       "      <td>288533.458944</td>\n",
       "      <td>0.479965</td>\n",
       "      <td>6.809917e+07</td>\n",
       "      <td>0.133711</td>\n",
       "    </tr>\n",
       "    <tr>\n",
       "      <th>min</th>\n",
       "      <td>3.000000</td>\n",
       "      <td>0.000000</td>\n",
       "      <td>3.900000e+01</td>\n",
       "      <td>0.000000</td>\n",
       "    </tr>\n",
       "    <tr>\n",
       "      <th>25%</th>\n",
       "      <td>249544.500000</td>\n",
       "      <td>0.000000</td>\n",
       "      <td>3.900000e+01</td>\n",
       "      <td>0.000000</td>\n",
       "    </tr>\n",
       "    <tr>\n",
       "      <th>50%</th>\n",
       "      <td>498861.000000</td>\n",
       "      <td>0.000000</td>\n",
       "      <td>3.900000e+01</td>\n",
       "      <td>0.000000</td>\n",
       "    </tr>\n",
       "    <tr>\n",
       "      <th>75%</th>\n",
       "      <td>748856.500000</td>\n",
       "      <td>1.000000</td>\n",
       "      <td>5.900000e+01</td>\n",
       "      <td>0.000000</td>\n",
       "    </tr>\n",
       "    <tr>\n",
       "      <th>max</th>\n",
       "      <td>999999.000000</td>\n",
       "      <td>1.000000</td>\n",
       "      <td>9.998843e+08</td>\n",
       "      <td>1.000000</td>\n",
       "    </tr>\n",
       "  </tbody>\n",
       "</table>\n",
       "</div>"
      ],
      "text/plain": [
       "             user_id           test         price      converted\n",
       "count  275616.000000  275616.000000  2.756160e+05  275616.000000\n",
       "mean   499245.801521       0.359878  6.470932e+06       0.018210\n",
       "std    288533.458944       0.479965  6.809917e+07       0.133711\n",
       "min         3.000000       0.000000  3.900000e+01       0.000000\n",
       "25%    249544.500000       0.000000  3.900000e+01       0.000000\n",
       "50%    498861.000000       0.000000  3.900000e+01       0.000000\n",
       "75%    748856.500000       1.000000  5.900000e+01       0.000000\n",
       "max    999999.000000       1.000000  9.998843e+08       1.000000"
      ]
     },
     "execution_count": 13,
     "metadata": {},
     "output_type": "execute_result"
    }
   ],
   "source": [
    "test_results[test_results[\"user_id\"].isin(user_table[\"user_id\"])].describe()"
   ]
  },
  {
   "cell_type": "markdown",
   "metadata": {},
   "source": [
    "Since the counts of the above table are the same as the user_table, I conclude that all user_ids in user_table are present in test_results. Also of note is that the mean and std of the converted column are very close to the mean and std for the entire table (0.01833 vs 0.01821, 0.1341 vs 0.1337)."
   ]
  },
  {
   "cell_type": "markdown",
   "metadata": {},
   "source": [
    "## Should the company sell its software for the original price or the new price? Has the test been running for too long?\n",
    "\n",
    "I'm now in a position to look into the 1st and 3rd questions. First I will calculate the baseline conversion rate for the control group, i.e. users that were shown the original price of the software."
   ]
  },
  {
   "cell_type": "code",
   "execution_count": 17,
   "metadata": {},
   "outputs": [
    {
     "name": "stdout",
     "output_type": "stream",
     "text": [
      "Control group conversion rate: 1.99%\n"
     ]
    }
   ],
   "source": [
    "control_group = test_results_clean[test_results_clean[\"test\"] == 0]\n",
    "control_conversion = len(control_group[control_group[\"converted\"] == 1])/len(control_group)\n",
    "print(\"Control group conversion rate: {:.2f}%\".format(100*control_conversion))"
   ]
  },
  {
   "cell_type": "code",
   "execution_count": 19,
   "metadata": {},
   "outputs": [
    {
     "name": "stdout",
     "output_type": "stream",
     "text": [
      "Test group conversion rate: 1.56%\n"
     ]
    }
   ],
   "source": [
    "test_group = test_results_clean[test_results_clean[\"test\"] == 1]\n",
    "test_conversion = len(test_group[test_group[\"converted\"] == 1])/len(test_group)\n",
    "print(\"Test group conversion rate: {:.2f}%\".format(100*test_conversion))"
   ]
  },
  {
   "cell_type": "markdown",
   "metadata": {},
   "source": [
    "The first thing to note is some good news: Based on aggregate data, even though the conversion rate went down for the increased price, **overall revenue should still go up** (if 2 out of 100 customers by the software at 39, revenue = 78, if 1.5 out of 100 customers buy the software at 59, revenue = 88.5). **Therefore, the company should sell its software at the higher price!**\n",
    "\n",
    "Now we can plug these numbers into an [A/B test calculator](https://www.optimizely.com/sample-size-calculator/?conversion=2&effect=25&significance=95) to obtain the sample size needed to detect a 25% change in conversion rate for a baseline conversion rate of 2%. **The answer for 95% confidence level is a sample size of 13000, so indeed the test has been running for far too long.**\n",
    "\n",
    "Another way to reframe the problem is, whatever relative change in conversion rate are we sensitive to with a sample size of ~300,000 and a baseline conversion rate of 2%? The answer for 95% confidence level is around a 5% relative change. Ideally before running the test a target for relative change in conversion rate would have been established, so that the test could be stopped when the appropriate amount of data was collected."
   ]
  },
  {
   "cell_type": "markdown",
   "metadata": {},
   "source": [
    "## Actionable insights / customer segmentation\n",
    "\n",
    "In order to glean some actionable insights from this data, I will segment customers based on the available information and determine if there is some segment that converts at a higher rate than others."
   ]
  },
  {
   "cell_type": "markdown",
   "metadata": {},
   "source": [
    "### Segmenting by device\n",
    "\n",
    "The device might have some relationship with the conversion rate if the software is for example a mobile app, we might expect a lower conversion rate from non-mobile visits. In any case, I'll check:"
   ]
  },
  {
   "cell_type": "code",
   "execution_count": 71,
   "metadata": {},
   "outputs": [
    {
     "data": {
      "text/plain": [
       "array(['mobile', 'web', nan], dtype=object)"
      ]
     },
     "execution_count": 71,
     "metadata": {},
     "output_type": "execute_result"
    }
   ],
   "source": [
    "test_results_clean[\"device\"].unique()"
   ]
  },
  {
   "cell_type": "code",
   "execution_count": 116,
   "metadata": {},
   "outputs": [
    {
     "data": {
      "text/plain": [
       "<matplotlib.lines.Line2D at 0x276a1e9fb48>"
      ]
     },
     "execution_count": 116,
     "metadata": {},
     "output_type": "execute_result"
    },
    {
     "data": {
      "image/png": "[encoded data removed]",
      "text/plain": [
       "<Figure size 432x288 with 1 Axes>"
      ]
     },
     "metadata": {
      "needs_background": "light"
     },
     "output_type": "display_data"
    }
   ],
   "source": [
    "control_group_dev = test_results_clean[test_results_clean[\"test\"] == 0].groupby(\"device\")\n",
    "test_group_dev = test_results_clean[test_results_clean[\"test\"] == 1].groupby(\"device\")\n",
    "\n",
    "dev_list = list()\n",
    "control_crs = list()\n",
    "test_crs = list()\n",
    "for device in test_results_clean[\"device\"].unique():\n",
    "    if type(device) != str:\n",
    "        continue\n",
    "    dev_list.append(device)\n",
    "    control_crs.append(100*control_group_dev[\"converted\"].value_counts()[device, 1]/control_group_dev[\"converted\"].agg(\"count\")[device])\n",
    "    test_crs.append(100*test_group_dev[\"converted\"].value_counts()[device, 1]/test_group_dev[\"converted\"].agg(\"count\")[device])\n",
    "\n",
    "device_df = pd.DataFrame({\"control group\": control_crs, \"test group\": test_crs}, index=dev_list)\n",
    "ax = device_df.plot.bar(rot=0)\n",
    "plt.xlabel(\"device\")\n",
    "plt.ylabel(\"Conversion %\")\n",
    "plt.axhline(control_conversion*100, color='k')\n",
    "plt.axhline(test_conversion*100, color='r')"
   ]
  },
  {
   "cell_type": "markdown",
   "metadata": {},
   "source": [
    "Although it looks like there might be some dependence on the device in the test group, the fact that it isn't also present in the control group makes me suspect it is not statistically significant. This might bear further investigation if there is sufficient time, for example I might use bootstrapping to obtain the standard error on the mean of the conversion rate to determine if the mobile/web conversion rates for the test group are actually consistent with each other."
   ]
  },
  {
   "cell_type": "markdown",
   "metadata": {},
   "source": [
    "### Segmenting by operating system\n",
    "\n",
    "The operating system could possibly have an impact on the conversion rate. The software might be more popular among users of a particular OS, which might inform where advertising dollars are spent."
   ]
  },
  {
   "cell_type": "code",
   "execution_count": 43,
   "metadata": {},
   "outputs": [
    {
     "data": {
      "text/plain": [
       "array(['iOS', 'android', 'mac', 'windows', nan, 'i0S', 'wnddows',\n",
       "       'anroid', 'apple'], dtype=object)"
      ]
     },
     "execution_count": 43,
     "metadata": {},
     "output_type": "execute_result"
    }
   ],
   "source": [
    "test_results_clean[\"operative_system\"].unique()"
   ]
  },
  {
   "cell_type": "markdown",
   "metadata": {},
   "source": [
    "I've discovered some data cleaning issues that weren't relevant previously! We have what looks like some typos that should be easy to clean up:\n",
    "\n",
    "- i0S = iOS\n",
    "- wnddows = windows\n",
    "- anroid = android\n",
    "\n",
    "Let's also make the assumption that \"mac\" and \"apple\" should be considered equivalent.\n",
    "\n",
    "Finally we have some \"nan\" values that we can drop."
   ]
  },
  {
   "cell_type": "code",
   "execution_count": 61,
   "metadata": {},
   "outputs": [
    {
     "data": {
      "text/plain": [
       "array(['iOS', 'android', 'mac', 'windows', 'None'], dtype=object)"
      ]
     },
     "execution_count": 61,
     "metadata": {},
     "output_type": "execute_result"
    }
   ],
   "source": [
    "# CLEANING\n",
    "test_results_clean.loc[:,\"operative_system\"] = test_results_clean.loc[:,\"operative_system\"].replace(\"i0S\", \"iOS\")\n",
    "test_results_clean.loc[:,\"operative_system\"] = test_results_clean.loc[:,\"operative_system\"].replace(\"wnddows\", \"windows\")\n",
    "test_results_clean.loc[:,\"operative_system\"] = test_results_clean.loc[:,\"operative_system\"].replace(\"anroid\", \"android\")\n",
    "test_results_clean.loc[:,\"operative_system\"] = test_results_clean.loc[:,\"operative_system\"].replace(\"apple\", \"mac\")\n",
    "test_results_clean.loc[:,\"operative_system\"] = test_results_clean.loc[:,\"operative_system\"].replace(np.nan, \"None\")\n",
    "test_results_clean[\"operative_system\"].unique()"
   ]
  },
  {
   "cell_type": "code",
   "execution_count": 115,
   "metadata": {},
   "outputs": [
    {
     "data": {
      "text/plain": [
       "<matplotlib.lines.Line2D at 0x276a2106648>"
      ]
     },
     "execution_count": 115,
     "metadata": {},
     "output_type": "execute_result"
    },
    {
     "data": {
      "image/png": "[encoded data removed]",
      "text/plain": [
       "<Figure size 432x288 with 1 Axes>"
      ]
     },
     "metadata": {
      "needs_background": "light"
     },
     "output_type": "display_data"
    }
   ],
   "source": [
    "control_group_os = test_results_clean[test_results_clean[\"test\"] == 0].groupby(\"operative_system\")\n",
    "test_group_os = test_results_clean[test_results_clean[\"test\"] == 1].groupby(\"operative_system\")\n",
    "\n",
    "sys_list = list()\n",
    "control_crs = list()\n",
    "test_crs = list()\n",
    "for system in test_results_clean[\"operative_system\"].unique():\n",
    "    if system == \"None\":\n",
    "        continue\n",
    "    sys_list.append(system)\n",
    "    control_crs.append(100*control_group_os[\"converted\"].value_counts()[system, 1]/control_group_os[\"converted\"].agg(\"count\")[system])\n",
    "    test_crs.append(100*test_group_os[\"converted\"].value_counts()[system, 1]/test_group_os[\"converted\"].agg(\"count\")[system])\n",
    "\n",
    "system_df = pd.DataFrame({\"control group\": control_crs, \"test group\": test_crs}, index=sys_list)\n",
    "system_df = system_df.sort_values(by=\"control group\", ascending=False)\n",
    "ax = system_df.plot.bar(rot=0)\n",
    "plt.xlabel(\"system\")\n",
    "plt.ylabel(\"Conversion %\")\n",
    "plt.axhline(control_conversion*100, color='k')\n",
    "plt.axhline(test_conversion*100, color='r')"
   ]
  },
  {
   "cell_type": "markdown",
   "metadata": {},
   "source": [
    "There are strong indications that the conversion rate is higher for iOS and mac users, indicating that the software product is more popular among users of those devices. Further investigation into the reason for this might be very valuable. It could be related to where and how advertising dollars are being spent, or it could be as simple as the iOS/mac version having a more intuitive interface. In any case, undertanding the reason for this gap in popularity might lead to better conversion rates for android and windows users."
   ]
  },
  {
   "cell_type": "markdown",
   "metadata": {},
   "source": [
    "### Segmenting by source"
   ]
  },
  {
   "cell_type": "code",
   "execution_count": 73,
   "metadata": {},
   "outputs": [
    {
     "data": {
      "text/plain": [
       "array(['ads_facebook', 'seo-google', 'ads-bing', 'direct_traffic',\n",
       "       'ads-google', 'seo_facebook', 'friend_referral', 'ads_other',\n",
       "       'ads-yahoo', 'seo-yahoo', 'seo-bing', 'seo-other', nan],\n",
       "      dtype=object)"
      ]
     },
     "execution_count": 73,
     "metadata": {},
     "output_type": "execute_result"
    }
   ],
   "source": [
    "test_results_clean[\"source\"].unique()"
   ]
  },
  {
   "cell_type": "code",
   "execution_count": 117,
   "metadata": {},
   "outputs": [
    {
     "data": {
      "text/plain": [
       "<matplotlib.lines.Line2D at 0x276a1dcb448>"
      ]
     },
     "execution_count": 117,
     "metadata": {},
     "output_type": "execute_result"
    },
    {
     "data": {
      "image/png": "[encoded data removed]",
      "text/plain": [
       "<Figure size 2160x720 with 1 Axes>"
      ]
     },
     "metadata": {
      "needs_background": "light"
     },
     "output_type": "display_data"
    }
   ],
   "source": [
    "control_group_os = test_results_clean[test_results_clean[\"test\"] == 0].groupby(\"source\")\n",
    "test_group_os = test_results_clean[test_results_clean[\"test\"] == 1].groupby(\"source\")\n",
    "\n",
    "source_list = list()\n",
    "control_crs = list()\n",
    "test_crs = list()\n",
    "for source in test_results_clean[\"source\"].unique():\n",
    "    if type(source) != str:\n",
    "        continue\n",
    "    source_list.append(source)\n",
    "    control_crs.append(100*control_group_os[\"converted\"].value_counts()[source, 1]/control_group_os[\"converted\"].agg(\"count\")[source])\n",
    "    test_crs.append(100*test_group_os[\"converted\"].value_counts()[source, 1]/test_group_os[\"converted\"].agg(\"count\")[source])\n",
    "\n",
    "source_df = pd.DataFrame({\"control group\": control_crs, \"test group\": test_crs}, index=source_list)\n",
    "source_df = source_df.sort_values(by=\"control group\", ascending=False)\n",
    "ax = source_df.plot.bar(rot=0, figsize=(30,10), fontsize=20)\n",
    "plt.xlabel(\"source\")\n",
    "plt.ylabel(\"Conversion %\")\n",
    "plt.axhline(control_conversion*100, color='k')\n",
    "plt.axhline(test_conversion*100, color='r')"
   ]
  },
  {
   "cell_type": "markdown",
   "metadata": {},
   "source": [
    "Friend referrals are the source with by far the highest conversion rate. Encouraging referrals is therefore something that could be targetted to increase revenue and conversion rates, for example by offering incentives to existing users in exchange for referrals that lead to a successful conversion. \n",
    "\n",
    "In the control group, Bing SEO is also leading to more successful conversions than the aggregate, as are facebook ads and google ads. Bing SEO is not outperforming the aggregrate in the test group, which is slightly suspicious, however facebook adds and google adds are also leading to more successful conversions in the test group."
   ]
  },
  {
   "cell_type": "markdown",
   "metadata": {},
   "source": [
    "# Conclusions and next steps\n",
    "\n",
    "To start I will sum up my answers to the 3 questions provided in the challenge:\n",
    "\n",
    "1. **Should the company sell its software for 39 or 59?**\n",
    "\n",
    " * The company should sell its software for 59 dollars. This will lead to a drop in conversion rate but an overall increase in revenue\n",
    "\n",
    "\n",
    "2. **The VP of Product is interested in having a holistic view into user behavior, especially focusing on actionable insights that might increase conversion rate. What are your main findings looking at the data?**\n",
    "\n",
    " * The conversion rate is higher for iOS and mac users than android or windows users. Before making decisions based on this information, I would try to understand the root cause of this difference. Is it related to the software itself? Is it related to how advertising is being targeted? The next steps to take to increase android/windows conversions should become clear once the cause is understood.\n",
    " * The conversion rate is higher for friend referrals, Bing SEO, facebook ads, and google ads. Based on this data, incentivizing successful referrals should increase revenue and hopefully conversion rates as well. For the rest, I think an assessment of how advertising dollars are being spent based on this data should also help increase conversions. The fact that direct traffic has a relatively low conversion rate may also be a concern. How recently was the company's website overhauled?\n",
    " \n",
    "3. **The VP of Product feels that the test has been running for too long and she should have been able to get statistically significant results in a shorter time. Do you agree with her intuition? After how many days would you have stopped the test? Please, explain why.**\n",
    "\n",
    " * I agree that the test was running too long, as the relative change in conversion rate was 25% and this could have been detected with a sample size of 13,000. I didn't find the time to calculate how many days it took to reach the appropriate sample size, but this information is in the dataset and could be calculated relatively easily.\n",
    " \n",
    "## Next steps\n",
    "\n",
    "I think the most important next step would involve calculating the statistical strength of the conversion rates I calculated by segmenting the customer base. Bootstrapping the data and calculating standard errors would be my first approach, as a conversion rate for a segment of 2.1% +/- 0.2% is still consistent with the baseline of 2% and therefore I wouldn't make changes to company strategy based on that.\n",
    "\n",
    "Beyond that, the data itself contains several avenues of exploration that I didn't manage to check:\n",
    "\n",
    "1. I never used the geo data in the user_table, and there may be useful insights to draw from there. Are there more conversions from certain parts of the country? Rural vs urban? Etc.\n",
    "2. The time stamp data in results_table might also provide useful information. Are there more conversions at a particular time of day, day of the week, etc?"
   ]
  },
  {
   "cell_type": "code",
   "execution_count": null,
   "metadata": {},
   "outputs": [],
   "source": []
  }
 ],
 "metadata": {
  "kernelspec": {
   "display_name": "Python 3",
   "language": "python",
   "name": "python3"
  },
  "language_info": {
   "codemirror_mode": {
    "name": "ipython",
    "version": 3
   },
   "file_extension": ".py",
   "mimetype": "text/x-python",
   "name": "python",
   "nbconvert_exporter": "python",
   "pygments_lexer": "ipython3",
   "version": "3.7.6"
  }
 },
 "nbformat": 4,
 "nbformat_minor": 4
}
