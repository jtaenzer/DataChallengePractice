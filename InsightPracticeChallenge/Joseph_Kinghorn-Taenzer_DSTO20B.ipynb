{
 "cells": [
  {
   "cell_type": "markdown",
   "metadata": {},
   "source": [
    "# SETUP AND EXPLORATION OF THE DATA\n",
    "\n",
    "I'll start by reading in the data to a pandas dataframe and using the documentation to set the column names. I'll also use the patient ID as the index. Print the head of the dataframe just to make sure the structure looks correct."
   ]
  },
  {
   "cell_type": "code",
   "execution_count": 1,
   "metadata": {},
   "outputs": [
    {
     "data": {
      "text/html": [
       "<div>\n",
       "<style scoped>\n",
       "    .dataframe tbody tr th:only-of-type {\n",
       "        vertical-align: middle;\n",
       "    }\n",
       "\n",
       "    .dataframe tbody tr th {\n",
       "        vertical-align: top;\n",
       "    }\n",
       "\n",
       "    .dataframe thead th {\n",
       "        text-align: right;\n",
       "    }\n",
       "</style>\n",
       "<table border=\"1\" class=\"dataframe\">\n",
       "  <thead>\n",
       "    <tr style=\"text-align: right;\">\n",
       "      <th></th>\n",
       "      <th>Thickness</th>\n",
       "      <th>U Cell Size</th>\n",
       "      <th>U Cell Shape</th>\n",
       "      <th>Adhesion</th>\n",
       "      <th>SE Cell Size</th>\n",
       "      <th>Bare Nuclei</th>\n",
       "      <th>Bland Chromatin</th>\n",
       "      <th>Normal Nuclei</th>\n",
       "      <th>Mitoses</th>\n",
       "      <th>Class</th>\n",
       "    </tr>\n",
       "  </thead>\n",
       "  <tbody>\n",
       "    <tr>\n",
       "      <th>1000025</th>\n",
       "      <td>5</td>\n",
       "      <td>1</td>\n",
       "      <td>1</td>\n",
       "      <td>1</td>\n",
       "      <td>2</td>\n",
       "      <td>1</td>\n",
       "      <td>3</td>\n",
       "      <td>1</td>\n",
       "      <td>1</td>\n",
       "      <td>2</td>\n",
       "    </tr>\n",
       "    <tr>\n",
       "      <th>1002945</th>\n",
       "      <td>5</td>\n",
       "      <td>4</td>\n",
       "      <td>4</td>\n",
       "      <td>5</td>\n",
       "      <td>7</td>\n",
       "      <td>10</td>\n",
       "      <td>3</td>\n",
       "      <td>2</td>\n",
       "      <td>1</td>\n",
       "      <td>2</td>\n",
       "    </tr>\n",
       "    <tr>\n",
       "      <th>1015425</th>\n",
       "      <td>3</td>\n",
       "      <td>1</td>\n",
       "      <td>1</td>\n",
       "      <td>1</td>\n",
       "      <td>2</td>\n",
       "      <td>2</td>\n",
       "      <td>3</td>\n",
       "      <td>1</td>\n",
       "      <td>1</td>\n",
       "      <td>2</td>\n",
       "    </tr>\n",
       "    <tr>\n",
       "      <th>1016277</th>\n",
       "      <td>6</td>\n",
       "      <td>8</td>\n",
       "      <td>8</td>\n",
       "      <td>1</td>\n",
       "      <td>3</td>\n",
       "      <td>4</td>\n",
       "      <td>3</td>\n",
       "      <td>7</td>\n",
       "      <td>1</td>\n",
       "      <td>2</td>\n",
       "    </tr>\n",
       "    <tr>\n",
       "      <th>1017023</th>\n",
       "      <td>4</td>\n",
       "      <td>1</td>\n",
       "      <td>1</td>\n",
       "      <td>3</td>\n",
       "      <td>2</td>\n",
       "      <td>1</td>\n",
       "      <td>3</td>\n",
       "      <td>1</td>\n",
       "      <td>1</td>\n",
       "      <td>2</td>\n",
       "    </tr>\n",
       "    <tr>\n",
       "      <th>1017122</th>\n",
       "      <td>8</td>\n",
       "      <td>10</td>\n",
       "      <td>10</td>\n",
       "      <td>8</td>\n",
       "      <td>7</td>\n",
       "      <td>10</td>\n",
       "      <td>9</td>\n",
       "      <td>7</td>\n",
       "      <td>1</td>\n",
       "      <td>4</td>\n",
       "    </tr>\n",
       "    <tr>\n",
       "      <th>1018099</th>\n",
       "      <td>1</td>\n",
       "      <td>1</td>\n",
       "      <td>1</td>\n",
       "      <td>1</td>\n",
       "      <td>2</td>\n",
       "      <td>10</td>\n",
       "      <td>3</td>\n",
       "      <td>1</td>\n",
       "      <td>1</td>\n",
       "      <td>2</td>\n",
       "    </tr>\n",
       "    <tr>\n",
       "      <th>1018561</th>\n",
       "      <td>2</td>\n",
       "      <td>1</td>\n",
       "      <td>2</td>\n",
       "      <td>1</td>\n",
       "      <td>2</td>\n",
       "      <td>1</td>\n",
       "      <td>3</td>\n",
       "      <td>1</td>\n",
       "      <td>1</td>\n",
       "      <td>2</td>\n",
       "    </tr>\n",
       "    <tr>\n",
       "      <th>1033078</th>\n",
       "      <td>2</td>\n",
       "      <td>1</td>\n",
       "      <td>1</td>\n",
       "      <td>1</td>\n",
       "      <td>2</td>\n",
       "      <td>1</td>\n",
       "      <td>1</td>\n",
       "      <td>1</td>\n",
       "      <td>5</td>\n",
       "      <td>2</td>\n",
       "    </tr>\n",
       "    <tr>\n",
       "      <th>1033078</th>\n",
       "      <td>4</td>\n",
       "      <td>2</td>\n",
       "      <td>1</td>\n",
       "      <td>1</td>\n",
       "      <td>2</td>\n",
       "      <td>1</td>\n",
       "      <td>2</td>\n",
       "      <td>1</td>\n",
       "      <td>1</td>\n",
       "      <td>2</td>\n",
       "    </tr>\n",
       "  </tbody>\n",
       "</table>\n",
       "</div>"
      ],
      "text/plain": [
       "         Thickness  U Cell Size  U Cell Shape  Adhesion  SE Cell Size  \\\n",
       "1000025          5            1             1         1             2   \n",
       "1002945          5            4             4         5             7   \n",
       "1015425          3            1             1         1             2   \n",
       "1016277          6            8             8         1             3   \n",
       "1017023          4            1             1         3             2   \n",
       "1017122          8           10            10         8             7   \n",
       "1018099          1            1             1         1             2   \n",
       "1018561          2            1             2         1             2   \n",
       "1033078          2            1             1         1             2   \n",
       "1033078          4            2             1         1             2   \n",
       "\n",
       "        Bare Nuclei  Bland Chromatin  Normal Nuclei  Mitoses  Class  \n",
       "1000025           1                3              1        1      2  \n",
       "1002945          10                3              2        1      2  \n",
       "1015425           2                3              1        1      2  \n",
       "1016277           4                3              7        1      2  \n",
       "1017023           1                3              1        1      2  \n",
       "1017122          10                9              7        1      4  \n",
       "1018099          10                3              1        1      2  \n",
       "1018561           1                3              1        1      2  \n",
       "1033078           1                1              1        5      2  \n",
       "1033078           1                2              1        1      2  "
      ]
     },
     "execution_count": 1,
     "metadata": {},
     "output_type": "execute_result"
    }
   ],
   "source": [
    "import numpy as np\n",
    "import pandas as pd\n",
    "\n",
    "cols = [\"Thickness\", \"U Cell Size\", \"U Cell Shape\", \"Adhesion\", \"SE Cell Size\", \"Bare Nuclei\", \"Bland Chromatin\",\n",
    "       \"Normal Nuclei\", \"Mitoses\", \"Class\"]\n",
    "patient_data = pd.read_csv(\"../breast-cancer-wisconsin.csv\", header=None, index_col=0, names=cols)\n",
    "patient_data.head(10)"
   ]
  },
  {
   "cell_type": "markdown",
   "metadata": {},
   "source": [
    "Let's describe() the dataframe to see if we can glean anything from the simple stats."
   ]
  },
  {
   "cell_type": "code",
   "execution_count": 2,
   "metadata": {},
   "outputs": [
    {
     "data": {
      "text/html": [
       "<div>\n",
       "<style scoped>\n",
       "    .dataframe tbody tr th:only-of-type {\n",
       "        vertical-align: middle;\n",
       "    }\n",
       "\n",
       "    .dataframe tbody tr th {\n",
       "        vertical-align: top;\n",
       "    }\n",
       "\n",
       "    .dataframe thead th {\n",
       "        text-align: right;\n",
       "    }\n",
       "</style>\n",
       "<table border=\"1\" class=\"dataframe\">\n",
       "  <thead>\n",
       "    <tr style=\"text-align: right;\">\n",
       "      <th></th>\n",
       "      <th>Thickness</th>\n",
       "      <th>U Cell Size</th>\n",
       "      <th>U Cell Shape</th>\n",
       "      <th>Adhesion</th>\n",
       "      <th>SE Cell Size</th>\n",
       "      <th>Bland Chromatin</th>\n",
       "      <th>Normal Nuclei</th>\n",
       "      <th>Mitoses</th>\n",
       "      <th>Class</th>\n",
       "    </tr>\n",
       "  </thead>\n",
       "  <tbody>\n",
       "    <tr>\n",
       "      <th>count</th>\n",
       "      <td>699.000000</td>\n",
       "      <td>699.000000</td>\n",
       "      <td>699.000000</td>\n",
       "      <td>699.000000</td>\n",
       "      <td>699.000000</td>\n",
       "      <td>699.000000</td>\n",
       "      <td>699.000000</td>\n",
       "      <td>699.000000</td>\n",
       "      <td>699.000000</td>\n",
       "    </tr>\n",
       "    <tr>\n",
       "      <th>mean</th>\n",
       "      <td>4.417740</td>\n",
       "      <td>3.134478</td>\n",
       "      <td>3.207439</td>\n",
       "      <td>2.806867</td>\n",
       "      <td>3.216023</td>\n",
       "      <td>3.437768</td>\n",
       "      <td>2.866953</td>\n",
       "      <td>1.589413</td>\n",
       "      <td>2.689557</td>\n",
       "    </tr>\n",
       "    <tr>\n",
       "      <th>std</th>\n",
       "      <td>2.815741</td>\n",
       "      <td>3.051459</td>\n",
       "      <td>2.971913</td>\n",
       "      <td>2.855379</td>\n",
       "      <td>2.214300</td>\n",
       "      <td>2.438364</td>\n",
       "      <td>3.053634</td>\n",
       "      <td>1.715078</td>\n",
       "      <td>0.951273</td>\n",
       "    </tr>\n",
       "    <tr>\n",
       "      <th>min</th>\n",
       "      <td>1.000000</td>\n",
       "      <td>1.000000</td>\n",
       "      <td>1.000000</td>\n",
       "      <td>1.000000</td>\n",
       "      <td>1.000000</td>\n",
       "      <td>1.000000</td>\n",
       "      <td>1.000000</td>\n",
       "      <td>1.000000</td>\n",
       "      <td>2.000000</td>\n",
       "    </tr>\n",
       "    <tr>\n",
       "      <th>25%</th>\n",
       "      <td>2.000000</td>\n",
       "      <td>1.000000</td>\n",
       "      <td>1.000000</td>\n",
       "      <td>1.000000</td>\n",
       "      <td>2.000000</td>\n",
       "      <td>2.000000</td>\n",
       "      <td>1.000000</td>\n",
       "      <td>1.000000</td>\n",
       "      <td>2.000000</td>\n",
       "    </tr>\n",
       "    <tr>\n",
       "      <th>50%</th>\n",
       "      <td>4.000000</td>\n",
       "      <td>1.000000</td>\n",
       "      <td>1.000000</td>\n",
       "      <td>1.000000</td>\n",
       "      <td>2.000000</td>\n",
       "      <td>3.000000</td>\n",
       "      <td>1.000000</td>\n",
       "      <td>1.000000</td>\n",
       "      <td>2.000000</td>\n",
       "    </tr>\n",
       "    <tr>\n",
       "      <th>75%</th>\n",
       "      <td>6.000000</td>\n",
       "      <td>5.000000</td>\n",
       "      <td>5.000000</td>\n",
       "      <td>4.000000</td>\n",
       "      <td>4.000000</td>\n",
       "      <td>5.000000</td>\n",
       "      <td>4.000000</td>\n",
       "      <td>1.000000</td>\n",
       "      <td>4.000000</td>\n",
       "    </tr>\n",
       "    <tr>\n",
       "      <th>max</th>\n",
       "      <td>10.000000</td>\n",
       "      <td>10.000000</td>\n",
       "      <td>10.000000</td>\n",
       "      <td>10.000000</td>\n",
       "      <td>10.000000</td>\n",
       "      <td>10.000000</td>\n",
       "      <td>10.000000</td>\n",
       "      <td>10.000000</td>\n",
       "      <td>4.000000</td>\n",
       "    </tr>\n",
       "  </tbody>\n",
       "</table>\n",
       "</div>"
      ],
      "text/plain": [
       "        Thickness  U Cell Size  U Cell Shape    Adhesion  SE Cell Size  \\\n",
       "count  699.000000   699.000000    699.000000  699.000000    699.000000   \n",
       "mean     4.417740     3.134478      3.207439    2.806867      3.216023   \n",
       "std      2.815741     3.051459      2.971913    2.855379      2.214300   \n",
       "min      1.000000     1.000000      1.000000    1.000000      1.000000   \n",
       "25%      2.000000     1.000000      1.000000    1.000000      2.000000   \n",
       "50%      4.000000     1.000000      1.000000    1.000000      2.000000   \n",
       "75%      6.000000     5.000000      5.000000    4.000000      4.000000   \n",
       "max     10.000000    10.000000     10.000000   10.000000     10.000000   \n",
       "\n",
       "       Bland Chromatin  Normal Nuclei     Mitoses       Class  \n",
       "count       699.000000     699.000000  699.000000  699.000000  \n",
       "mean          3.437768       2.866953    1.589413    2.689557  \n",
       "std           2.438364       3.053634    1.715078    0.951273  \n",
       "min           1.000000       1.000000    1.000000    2.000000  \n",
       "25%           2.000000       1.000000    1.000000    2.000000  \n",
       "50%           3.000000       1.000000    1.000000    2.000000  \n",
       "75%           5.000000       4.000000    1.000000    4.000000  \n",
       "max          10.000000      10.000000   10.000000    4.000000  "
      ]
     },
     "execution_count": 2,
     "metadata": {},
     "output_type": "execute_result"
    }
   ],
   "source": [
    "patient_data.describe()"
   ]
  },
  {
   "cell_type": "markdown",
   "metadata": {},
   "source": [
    "From the above we have learned a few things:\n",
    "\n",
    "1) Bare nuclei doesn't show up in describe() because there is some data missing from that column which has been replaced with \"?\", making the column a mix of numeric and text data which trips up describe().\n",
    "\n",
    "2) All of our variables range from 1-10. Shouldn't need to scale the input to our model.\n",
    "\n",
    "3) The mean of the \"Class\" column is 2.7, so our dataset is imbalanced. We have more benign data than malignant data.\n",
    "\n",
    "Let's check how many patients are missing the Bare Nuclei column"
   ]
  },
  {
   "cell_type": "code",
   "execution_count": 3,
   "metadata": {},
   "outputs": [
    {
     "data": {
      "text/plain": [
       "16"
      ]
     },
     "execution_count": 3,
     "metadata": {},
     "output_type": "execute_result"
    }
   ],
   "source": [
    "patient_data[\"Bare Nuclei\"].value_counts()[\"?\"]"
   ]
  },
  {
   "cell_type": "markdown",
   "metadata": {},
   "source": [
    "Only 16 patients are missing the \"Bare Nuclei\" feature. This is a small enough number that dropping those patients from the dataset is unlikely to affect my future model performance, so I'll do that. At the same time, the classes being 2 (benign) or 4 (malignant) isn't really an issue but I would find it more intuitive to work with bools so let's use np.where to map our \"Class\" column to 0 = benign/False, 1 = malignant/True."
   ]
  },
  {
   "cell_type": "code",
   "execution_count": 4,
   "metadata": {},
   "outputs": [
    {
     "data": {
      "text/html": [
       "<div>\n",
       "<style scoped>\n",
       "    .dataframe tbody tr th:only-of-type {\n",
       "        vertical-align: middle;\n",
       "    }\n",
       "\n",
       "    .dataframe tbody tr th {\n",
       "        vertical-align: top;\n",
       "    }\n",
       "\n",
       "    .dataframe thead th {\n",
       "        text-align: right;\n",
       "    }\n",
       "</style>\n",
       "<table border=\"1\" class=\"dataframe\">\n",
       "  <thead>\n",
       "    <tr style=\"text-align: right;\">\n",
       "      <th></th>\n",
       "      <th>Thickness</th>\n",
       "      <th>U Cell Size</th>\n",
       "      <th>U Cell Shape</th>\n",
       "      <th>Adhesion</th>\n",
       "      <th>SE Cell Size</th>\n",
       "      <th>Bare Nuclei</th>\n",
       "      <th>Bland Chromatin</th>\n",
       "      <th>Normal Nuclei</th>\n",
       "      <th>Mitoses</th>\n",
       "      <th>Class</th>\n",
       "    </tr>\n",
       "  </thead>\n",
       "  <tbody>\n",
       "    <tr>\n",
       "      <th>count</th>\n",
       "      <td>683.000000</td>\n",
       "      <td>683.000000</td>\n",
       "      <td>683.000000</td>\n",
       "      <td>683.000000</td>\n",
       "      <td>683.000000</td>\n",
       "      <td>683.000000</td>\n",
       "      <td>683.000000</td>\n",
       "      <td>683.000000</td>\n",
       "      <td>683.000000</td>\n",
       "      <td>683.000000</td>\n",
       "    </tr>\n",
       "    <tr>\n",
       "      <th>mean</th>\n",
       "      <td>4.442167</td>\n",
       "      <td>3.150805</td>\n",
       "      <td>3.215227</td>\n",
       "      <td>2.830161</td>\n",
       "      <td>3.234261</td>\n",
       "      <td>3.544656</td>\n",
       "      <td>3.445095</td>\n",
       "      <td>2.869693</td>\n",
       "      <td>1.603221</td>\n",
       "      <td>0.349927</td>\n",
       "    </tr>\n",
       "    <tr>\n",
       "      <th>std</th>\n",
       "      <td>2.820761</td>\n",
       "      <td>3.065145</td>\n",
       "      <td>2.988581</td>\n",
       "      <td>2.864562</td>\n",
       "      <td>2.223085</td>\n",
       "      <td>3.643857</td>\n",
       "      <td>2.449697</td>\n",
       "      <td>3.052666</td>\n",
       "      <td>1.732674</td>\n",
       "      <td>0.477296</td>\n",
       "    </tr>\n",
       "    <tr>\n",
       "      <th>min</th>\n",
       "      <td>1.000000</td>\n",
       "      <td>1.000000</td>\n",
       "      <td>1.000000</td>\n",
       "      <td>1.000000</td>\n",
       "      <td>1.000000</td>\n",
       "      <td>1.000000</td>\n",
       "      <td>1.000000</td>\n",
       "      <td>1.000000</td>\n",
       "      <td>1.000000</td>\n",
       "      <td>0.000000</td>\n",
       "    </tr>\n",
       "    <tr>\n",
       "      <th>25%</th>\n",
       "      <td>2.000000</td>\n",
       "      <td>1.000000</td>\n",
       "      <td>1.000000</td>\n",
       "      <td>1.000000</td>\n",
       "      <td>2.000000</td>\n",
       "      <td>1.000000</td>\n",
       "      <td>2.000000</td>\n",
       "      <td>1.000000</td>\n",
       "      <td>1.000000</td>\n",
       "      <td>0.000000</td>\n",
       "    </tr>\n",
       "    <tr>\n",
       "      <th>50%</th>\n",
       "      <td>4.000000</td>\n",
       "      <td>1.000000</td>\n",
       "      <td>1.000000</td>\n",
       "      <td>1.000000</td>\n",
       "      <td>2.000000</td>\n",
       "      <td>1.000000</td>\n",
       "      <td>3.000000</td>\n",
       "      <td>1.000000</td>\n",
       "      <td>1.000000</td>\n",
       "      <td>0.000000</td>\n",
       "    </tr>\n",
       "    <tr>\n",
       "      <th>75%</th>\n",
       "      <td>6.000000</td>\n",
       "      <td>5.000000</td>\n",
       "      <td>5.000000</td>\n",
       "      <td>4.000000</td>\n",
       "      <td>4.000000</td>\n",
       "      <td>6.000000</td>\n",
       "      <td>5.000000</td>\n",
       "      <td>4.000000</td>\n",
       "      <td>1.000000</td>\n",
       "      <td>1.000000</td>\n",
       "    </tr>\n",
       "    <tr>\n",
       "      <th>max</th>\n",
       "      <td>10.000000</td>\n",
       "      <td>10.000000</td>\n",
       "      <td>10.000000</td>\n",
       "      <td>10.000000</td>\n",
       "      <td>10.000000</td>\n",
       "      <td>10.000000</td>\n",
       "      <td>10.000000</td>\n",
       "      <td>10.000000</td>\n",
       "      <td>10.000000</td>\n",
       "      <td>1.000000</td>\n",
       "    </tr>\n",
       "  </tbody>\n",
       "</table>\n",
       "</div>"
      ],
      "text/plain": [
       "        Thickness  U Cell Size  U Cell Shape    Adhesion  SE Cell Size  \\\n",
       "count  683.000000   683.000000    683.000000  683.000000    683.000000   \n",
       "mean     4.442167     3.150805      3.215227    2.830161      3.234261   \n",
       "std      2.820761     3.065145      2.988581    2.864562      2.223085   \n",
       "min      1.000000     1.000000      1.000000    1.000000      1.000000   \n",
       "25%      2.000000     1.000000      1.000000    1.000000      2.000000   \n",
       "50%      4.000000     1.000000      1.000000    1.000000      2.000000   \n",
       "75%      6.000000     5.000000      5.000000    4.000000      4.000000   \n",
       "max     10.000000    10.000000     10.000000   10.000000     10.000000   \n",
       "\n",
       "       Bare Nuclei  Bland Chromatin  Normal Nuclei     Mitoses       Class  \n",
       "count   683.000000       683.000000     683.000000  683.000000  683.000000  \n",
       "mean      3.544656         3.445095       2.869693    1.603221    0.349927  \n",
       "std       3.643857         2.449697       3.052666    1.732674    0.477296  \n",
       "min       1.000000         1.000000       1.000000    1.000000    0.000000  \n",
       "25%       1.000000         2.000000       1.000000    1.000000    0.000000  \n",
       "50%       1.000000         3.000000       1.000000    1.000000    0.000000  \n",
       "75%       6.000000         5.000000       4.000000    1.000000    1.000000  \n",
       "max      10.000000        10.000000      10.000000   10.000000    1.000000  "
      ]
     },
     "execution_count": 4,
     "metadata": {},
     "output_type": "execute_result"
    }
   ],
   "source": [
    "patient_data = patient_data[patient_data.loc[:,\"Bare Nuclei\"] != \"?\"]\n",
    "patient_data[\"Bare Nuclei\"] = pd.to_numeric(patient_data[\"Bare Nuclei\"])\n",
    "patient_data[\"Class\"] = np.where(patient_data[\"Class\"] == 4, 1, 0)\n",
    "patient_data.describe()"
   ]
  },
  {
   "cell_type": "markdown",
   "metadata": {},
   "source": [
    "Next let's make a correlation heatmap to see how our features correlate with the class and with each other. Features that aren't correlated to the class won't add anything to the predictive power of our model so we can disregard them moving forward. If we find some features that are correlated to the class but also to each other (i.e. features that aren't indepedent) we may not need to keep all of them. We'll use matplotlib.pyplot and seaborn to make the heatmap."
   ]
  },
  {
   "cell_type": "code",
   "execution_count": 5,
   "metadata": {},
   "outputs": [
    {
     "data": {
      "image/png": "[encoded data removed]",
      "text/plain": [
       "<Figure size 432x288 with 2 Axes>"
      ]
     },
     "metadata": {
      "needs_background": "light"
     },
     "output_type": "display_data"
    }
   ],
   "source": [
    "import matplotlib.pyplot as plt\n",
    "import seaborn as sn\n",
    "\n",
    "sn.heatmap(patient_data.corr(), annot=True)\n",
    "plt.show()"
   ]
  },
  {
   "cell_type": "markdown",
   "metadata": {},
   "source": [
    "All of our variables are (strongly) correlated to the class, so it should definitely be possible to build a good predictive model here. The strongest correlations are for U Cell Size, U Cell Thickness, and Bare Nuclei, while the weakest correlation is for Mitoses. Our variables are also strongly correlated with each other, in particular U Cell Size and U Cell Shape are almost perfectly correlated so there should be no need to use both of them as model inputs. but this does impact our model choice (Naive Bayes is definitely out). I'm going to cut off my exploration here, even though I'm sure there are more insights to be gleaned, as I've spent about an hour on it. Time to move on to model building!"
   ]
  },
  {
   "cell_type": "markdown",
   "metadata": {},
   "source": [
    "# Data preparation and model building\n",
    "\n",
    "I'm primarily going to use scikit-learn as it has many handy data preparation tools as well implementations of the models I would like to try.\n",
    "\n",
    "Important note for validation: Based on the nature of the problem, the overall accuracy of the model is less important than the recall, i.e. True Positives / (True Positives + False Negatives). Ideally we would like to minimize both false positives and false negatives, but false negatives could lead to loss of life."
   ]
  },
  {
   "cell_type": "markdown",
   "metadata": {},
   "source": [
    "First things first I'll split our data into training and testing sets. I'll use the stratify argument to preserve the begnign/malignant imbalance in our split data. I'll start with a 50/50 split of training and testing data."
   ]
  },
  {
   "cell_type": "code",
   "execution_count": 6,
   "metadata": {
    "scrolled": true
   },
   "outputs": [],
   "source": [
    "from sklearn.model_selection import train_test_split\n",
    "\n",
    "# Dropping \"U Cell Shape\" here based on exploration above\n",
    "X = patient_data[[\"Thickness\", \"U Cell Size\", \"Adhesion\", \"SE Cell Size\", \"Bare Nuclei\", \"Bland Chromatin\",\n",
    "       \"Normal Nuclei\", \"Mitoses\"]].to_numpy()\n",
    "y = patient_data[\"Class\"].to_numpy()\n",
    "X_train, X_test, y_train, y_test = train_test_split(X, y, test_size=0.5, stratify=y, random_state=42)"
   ]
  },
  {
   "cell_type": "markdown",
   "metadata": {},
   "source": [
    "## Logistic regression\n",
    "\n",
    "Let's start with a logistic regression model. Logistic regression is a good baseline since its quite simple, it will just try to find a (hyper)plane through the data that best splits it into the two classes. Based on the strong positive correlations between our features and classes, I'm expecting good performance even with this simple approach!"
   ]
  },
  {
   "cell_type": "code",
   "execution_count": 7,
   "metadata": {},
   "outputs": [
    {
     "data": {
      "text/plain": [
       "LogisticRegression(C=1.0, class_weight=None, dual=False, fit_intercept=True,\n",
       "                   intercept_scaling=1, l1_ratio=None, max_iter=100,\n",
       "                   multi_class='auto', n_jobs=None, penalty='l2',\n",
       "                   random_state=None, solver='lbfgs', tol=0.0001, verbose=0,\n",
       "                   warm_start=False)"
      ]
     },
     "execution_count": 7,
     "metadata": {},
     "output_type": "execute_result"
    }
   ],
   "source": [
    "from sklearn.linear_model import LogisticRegression\n",
    "\n",
    "model = LogisticRegression()\n",
    "model.fit(X_train, y_train)"
   ]
  },
  {
   "cell_type": "markdown",
   "metadata": {},
   "source": [
    "I've now trained a simple logistic regression model on the data with scikit-learn's default settings. The predictive power of this model should be a good baseline, and next I'll try to improve on it. Let's check the accuracy, precision, and recall, keeping in mind my note earlier that recall is the most important metric for model performance since a false negative means a patient with cancer will not get a correct diagnoses and might lose valuable treatment time as a result."
   ]
  },
  {
   "cell_type": "code",
   "execution_count": 8,
   "metadata": {},
   "outputs": [
    {
     "name": "stdout",
     "output_type": "stream",
     "text": [
      "Model accuracy: 0.9736842105263158\n",
      "Model precision: 0.9512195121951219\n",
      "Model recall: 0.975\n"
     ]
    }
   ],
   "source": [
    "from sklearn.metrics import accuracy_score\n",
    "from sklearn.metrics import precision_score\n",
    "from sklearn.metrics import recall_score\n",
    "y_pred = model.predict(X_test)\n",
    "print(\"Model accuracy:\", accuracy_score(y_test, y_pred))\n",
    "print(\"Model precision:\", precision_score(y_test, y_pred))\n",
    "print(\"Model recall:\", recall_score(y_test, y_pred))"
   ]
  },
  {
   "cell_type": "markdown",
   "metadata": {},
   "source": [
    "As expected we get very good accuracy, precision, and recall even from this simple model. Before moving on, I'll try again with a more aggressive training/testing split (80/20) to see if this changes the metrics. "
   ]
  },
  {
   "cell_type": "code",
   "execution_count": 9,
   "metadata": {},
   "outputs": [
    {
     "name": "stdout",
     "output_type": "stream",
     "text": [
      "Model accuracy: 0.9635036496350365\n",
      "Model precision: 0.9215686274509803\n",
      "Model recall: 0.9791666666666666\n"
     ]
    }
   ],
   "source": [
    "X_train, X_test, y_train, y_test = train_test_split(X, y, test_size=0.2, stratify=y, random_state=42)\n",
    "model.fit(X_train, y_train)\n",
    "y_pred = model.predict(X_test)\n",
    "print(\"Model accuracy:\", accuracy_score(y_test, y_pred))\n",
    "print(\"Model precision:\", precision_score(y_test, y_pred))\n",
    "print(\"Model recall:\", recall_score(y_test, y_pred))"
   ]
  },
  {
   "cell_type": "markdown",
   "metadata": {},
   "source": [
    "Changing the train/test split fraction did result in some small changes but it's hard to say if they're significant. I'm going to try 5-fold cross-validation to improve my confidence in these results. I'm going to do this with sklearn's cross_val_score, which will not preserve the imbalance in the classes, if I get wonky results I'll switch to StratifiedKFold which does."
   ]
  },
  {
   "cell_type": "code",
   "execution_count": 10,
   "metadata": {},
   "outputs": [
    {
     "name": "stdout",
     "output_type": "stream",
     "text": [
      "Accuracy: 0.96 +/- 0.04\n",
      "Precision: 0.96 +/- 0.08\n",
      "Recall: 0.94 +/- 0.09\n"
     ]
    }
   ],
   "source": [
    "from sklearn.model_selection import cross_val_score\n",
    "\n",
    "scores = cross_val_score(model, X, y, cv=5, scoring=\"accuracy\")\n",
    "print(\"Accuracy: {0:.2f} +/- {1:.2f}\".format(scores.mean(), 2*scores.std()))\n",
    "scores = cross_val_score(model, X, y, cv=5, scoring=\"precision\")\n",
    "print(\"Precision: {0:.2f} +/- {1:.2f}\".format(scores.mean(), 2*scores.std()))\n",
    "scores = cross_val_score(model, X, y, cv=5, scoring=\"recall\")\n",
    "print(\"Recall: {0:.2f} +/- {1:.2f}\".format(scores.mean(), 2*scores.std()))\n"
   ]
  },
  {
   "cell_type": "markdown",
   "metadata": {},
   "source": [
    "It's a little bit suspicious that this is the first time precision > recall, but the 95% confidence interval (the value after +/- above) on the cross-validation output is large enough that I don't think this is significant. I could try further tuning the logistic regression parameters, but based on the above our accuracy, precision, and recall are all consistent with 1 so even if I can squeeze more out of logistic regression its not clear the improvements would be statisticall significant."
   ]
  },
  {
   "cell_type": "markdown",
   "metadata": {},
   "source": [
    "## Support Vector Machines -- SVC\n",
    "\n",
    "Next I will try scikit-learn's Support Vector Classification model. SVM's are effective in high dimensional spaces, and may do better than logistic regression here if the boundaries between the classes are not well represented by a simple (hyper)plane. I'll start from a 50/50 train/test split again."
   ]
  },
  {
   "cell_type": "code",
   "execution_count": 11,
   "metadata": {},
   "outputs": [
    {
     "name": "stdout",
     "output_type": "stream",
     "text": [
      "Model accuracy: 0.9532163742690059\n",
      "Model precision: 0.8880597014925373\n",
      "Model recall: 0.9916666666666667\n"
     ]
    }
   ],
   "source": [
    "from sklearn.svm import SVC\n",
    "\n",
    "model_svc = SVC(gamma=\"auto\")\n",
    "X_train, X_test, y_train, y_test = train_test_split(X, y, test_size=0.5, stratify=y, random_state=42)\n",
    "model_svc.fit(X_train, y_train)\n",
    "y_pred = model_svc.predict(X_test)\n",
    "print(\"Model accuracy:\", accuracy_score(y_test, y_pred))\n",
    "print(\"Model precision:\", precision_score(y_test, y_pred))\n",
    "print(\"Model recall:\", recall_score(y_test, y_pred))"
   ]
  },
  {
   "cell_type": "markdown",
   "metadata": {},
   "source": [
    "Recall has gone up with SVC at small cost to accuracy and precision. I'll try 5-fold cross-validation again to build confidence and get an idea of the error on the metrics."
   ]
  },
  {
   "cell_type": "code",
   "execution_count": 12,
   "metadata": {},
   "outputs": [
    {
     "name": "stdout",
     "output_type": "stream",
     "text": [
      "Accuracy: 0.95 +/- 0.07\n",
      "Precision: 0.88 +/- 0.13\n",
      "Recall: 0.99 +/- 0.02\n"
     ]
    }
   ],
   "source": [
    "scores = cross_val_score(model_svc, X, y, cv=5, scoring=\"accuracy\")\n",
    "print(\"Accuracy: {0:.2f} +/- {1:.2f}\".format(scores.mean(), 2*scores.std()))\n",
    "scores = cross_val_score(model_svc, X, y, cv=5, scoring=\"precision\")\n",
    "print(\"Precision: {0:.2f} +/- {1:.2f}\".format(scores.mean(), 2*scores.std()))\n",
    "scores = cross_val_score(model_svc, X, y, cv=5, scoring=\"recall\")\n",
    "print(\"Recall: {0:.2f} +/- {1:.2f}\".format(scores.mean(), 2*scores.std()))"
   ]
  },
  {
   "cell_type": "markdown",
   "metadata": {},
   "source": [
    "Based on the 95% confidence interval on the recall metric, I think this is a clear improvement over logistic regression. With accuracy and recall this high I'm not sure its worth spending more time on improving the model itself, however given the nature of the problem, before releasing this product in the real world I would certainly spend more time on validation."
   ]
  },
  {
   "cell_type": "markdown",
   "metadata": {},
   "source": [
    "# Closing remarks, next steps\n",
    "\n",
    "I've succeeded in building a model with almost perfect recall, which was my goal when I first started. As I mentioned above, I think the most important next step before using this model to in a real world situation would be further validation. As the dataset is relatively small, I would start by simply collecting more data and verifying that the model continues to perform the same. If the model continues to perform with a larger dataset, I would consult with medical experts, i.e. the end users of the model, as they might have a clearer idea of further validation steps. If the model does not continue to perform with more data, I would start by re-visiting the hyperparameters I used for the model training.\n",
    "\n",
    "Based on the correlations I observed in my exploration of the data, I was already able to drop one of the features (either U Cell Size or U Cell Shape). Potentially Mitoses could be dropped as well as it has the weakest correlation to the classes. If the secondary goal is to reduce the cost of testing by eliminating some of the features in the dataset, I would start by removing features one at a time during training and checking the impact on my metrics, with a focus on recall as usual. That would give me candidates for features that can be removed without impacting the metrics, and I would continue iteratively dropping two, three, etc features at a time before training and validate that performance is maintained. There may be an automated way to do this...\n",
    "\n",
    "It's a little bit difficult to say how a physician would use this model since I received the data in a very clean format. Would a physician usually have all of these features in a single chart? Would they have to request multiple tests which might vary in how long they take to perform? In any case, the simplest product form I can think of is a simple desktop computer app that takes each of the feature values in a text box and outputs \"benign\" or \"malignant\" from the model. A leveled up product might be able to scan the documentation that comes back from each test to find the feature values to reduce data entry time for the physician.\n",
    "\n",
    "\n"
   ]
  },
  {
   "cell_type": "code",
   "execution_count": null,
   "metadata": {},
   "outputs": [],
   "source": []
  }
 ],
 "metadata": {
  "kernelspec": {
   "display_name": "Python 3",
   "language": "python",
   "name": "python3"
  },
  "language_info": {
   "codemirror_mode": {
    "name": "ipython",
    "version": 3
   },
   "file_extension": ".py",
   "mimetype": "text/x-python",
   "name": "python",
   "nbconvert_exporter": "python",
   "pygments_lexer": "ipython3",
   "version": "3.7.6"
  }
 },
 "nbformat": 4,
 "nbformat_minor": 4
}
